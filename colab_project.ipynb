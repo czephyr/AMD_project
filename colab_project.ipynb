{
  "cells": [
    {
      "cell_type": "markdown",
      "metadata": {
        "id": "view-in-github",
        "colab_type": "text"
      },
      "source": [
        "<a href=\"https://colab.research.google.com/github/czephyr/AMD_project/blob/main/colab_project.ipynb\" target=\"_parent\"><img src=\"https://colab.research.google.com/assets/colab-badge.svg\" alt=\"Open In Colab\"/></a>"
      ]
    },
    {
      "cell_type": "code",
      "source": [
        "!apt-get install openjdk-8-jdk-headless -qq > /dev/null\n",
        "!wget -q https://dlcdn.apache.org/spark/spark-3.3.2/spark-3.3.2-bin-hadoop3.tgz\n",
        "!tar xf spark-3.3.2-bin-hadoop3.tgz"
      ],
      "metadata": {
        "id": "HiKF0k5uEfJp"
      },
      "execution_count": 7,
      "outputs": []
    },
    {
      "cell_type": "code",
      "source": [
        "import os\n",
        "os.environ[\"JAVA_HOME\"] = \"/usr/lib/jvm/java-8-openjdk-amd64\"\n",
        "os.environ[\"SPARK_HOME\"] = \"/content/spark-3.3.2-bin-hadoop3\""
      ],
      "metadata": {
        "id": "gGuGBQoSEr0e"
      },
      "execution_count": 8,
      "outputs": []
    },
    {
      "cell_type": "code",
      "source": [
        "!pip install -q findspark\n",
        "!pip install -q pyspark\n",
        "import findspark\n",
        "findspark.init()\n",
        "from pyspark.sql import SparkSession\n",
        "import pyspark\n",
        "spark = SparkSession.builder.master(\"local[*]\").getOrCreate()\n",
        "sc = spark.sparkContext"
      ],
      "metadata": {
        "id": "IkF2vSXIDWnG"
      },
      "execution_count": 9,
      "outputs": []
    },
    {
      "cell_type": "code",
      "execution_count": 10,
      "metadata": {
        "colab": {
          "base_uri": "https://localhost:8080/"
        },
        "id": "CRnhMrXxCuw0",
        "outputId": "84f1d729-c5bf-415b-df45-00eb5022d5f2"
      },
      "outputs": [
        {
          "output_type": "stream",
          "name": "stdout",
          "text": [
            "amazon_reviews_us_Baby_v1_00.tsv.zip: Skipping, found more recently modified local copy (use --force to force download)\n",
            "amazon_reviews_us_Digital_Music_Purchase_v1_00.tsv.zip: Skipping, found more recently modified local copy (use --force to force download)\n",
            "amazon_reviews_us_Digital_Video_Games_v1_00.tsv.zip: Skipping, found more recently modified local copy (use --force to force download)\n"
          ]
        }
      ],
      "source": [
        "os.environ['KAGGLE_USERNAME'] = \"aaaaaaaaaaaaaaaaafff\"\n",
        "os.environ['KAGGLE_KEY'] = \"75e26e145e3185803897967c59e5e8d2\"\n",
        "!kaggle datasets download -f amazon_reviews_us_Baby_v1_00.tsv cynthiarempel/amazon-us-customer-reviews-dataset\n",
        "!kaggle datasets download -f amazon_reviews_us_Digital_Music_Purchase_v1_00.tsv cynthiarempel/amazon-us-customer-reviews-dataset\n",
        "!kaggle datasets download -f amazon_reviews_us_Digital_Video_Games_v1_00.tsv cynthiarempel/amazon-us-customer-reviews-dataset"
      ]
    },
    {
      "cell_type": "code",
      "execution_count": 11,
      "metadata": {
        "id": "-pXcdJPACb98"
      },
      "outputs": [],
      "source": [
        "import zipfile\n",
        "with zipfile.ZipFile(\"amazon_reviews_us_Baby_v1_00.tsv.zip\", 'r') as zip_ref:\n",
        "    zip_ref.extractall(\".\")\n",
        "with zipfile.ZipFile(\"amazon_reviews_us_Digital_Music_Purchase_v1_00.tsv.zip\", 'r') as zip_ref:\n",
        "    zip_ref.extractall(\".\")\n",
        "with zipfile.ZipFile(\"amazon_reviews_us_Digital_Video_Games_v1_00.tsv.zip\", 'r') as zip_ref:\n",
        "    zip_ref.extractall(\".\")"
      ]
    },
    {
      "cell_type": "markdown",
      "metadata": {
        "id": "iZ9LaOaWCuw2"
      },
      "source": [
        "### Data to adjacency list"
      ]
    },
    {
      "cell_type": "code",
      "execution_count": 12,
      "metadata": {
        "colab": {
          "base_uri": "https://localhost:8080/"
        },
        "id": "6r4rhHRgCuw3",
        "outputId": "dad3dea2-48f5-4359-978a-bcd869274cf0"
      },
      "outputs": [
        {
          "output_type": "stream",
          "name": "stdout",
          "text": [
            "Rows in the dataset: 3587247\n"
          ]
        },
        {
          "output_type": "execute_result",
          "data": {
            "text/plain": [
              "[Row(customer_id='9970739', product_parent='329991347')]"
            ]
          },
          "metadata": {},
          "execution_count": 12
        }
      ],
      "source": [
        "# the dataset is composed by Baby items, Digital Music and Digital Videogames\n",
        "# RDD (customer,product)\n",
        "tsv0 = spark.read.option(\"header\", \"true\").option(\"sep\", \"\\t\").csv(\"amazon_reviews_us_Baby_v1_00.tsv\").select([\"customer_id\",\"product_parent\"]).rdd\n",
        "tsv1 = spark.read.option(\"header\", \"true\").option(\"sep\", \"\\t\").csv(\"amazon_reviews_us_Digital_Music_Purchase_v1_00.tsv\").select([\"customer_id\",\"product_parent\"]).rdd\n",
        "tsv2 = spark.read.option(\"header\", \"true\").option(\"sep\", \"\\t\").csv(\"amazon_reviews_us_Digital_Video_Games_v1_00.tsv\").select([\"customer_id\",\"product_parent\"]).rdd\n",
        "tsv = tsv0.union(tsv1).union(tsv2)\n",
        "data = tsv\n",
        "print(f\"Rows in the dataset: {data.count()}\")\n",
        "data.take(1)"
      ]
    },
    {
      "cell_type": "code",
      "execution_count": 13,
      "metadata": {
        "colab": {
          "base_uri": "https://localhost:8080/"
        },
        "id": "OfJIYLgyCuw5",
        "outputId": "5406cebc-aa4f-4dc4-c349-f9e2aac39bc1"
      },
      "outputs": [
        {
          "output_type": "execute_result",
          "data": {
            "text/plain": [
              "[Row(customer_id='9970739', product_parent='329991347'),\n",
              " Row(customer_id='23538442', product_parent='646108902')]"
            ]
          },
          "metadata": {},
          "execution_count": 13
        }
      ],
      "source": [
        "data.take(2)"
      ]
    },
    {
      "cell_type": "code",
      "execution_count": 14,
      "metadata": {
        "colab": {
          "base_uri": "https://localhost:8080/"
        },
        "id": "mFQIgUTLCuw6",
        "outputId": "39901eab-0af3-43db-b2b7-7e2f47b43314"
      },
      "outputs": [
        {
          "output_type": "execute_result",
          "data": {
            "text/plain": [
              "['603406193', '341969535']"
            ]
          },
          "metadata": {},
          "execution_count": 14
        }
      ],
      "source": [
        "# Extract id of Digital Videogames products in the database\n",
        "video_games = tsv2.map(lambda x: x[1]).distinct()\n",
        "video_games.take(2)"
      ]
    },
    {
      "cell_type": "code",
      "execution_count": 15,
      "metadata": {
        "colab": {
          "base_uri": "https://localhost:8080/"
        },
        "id": "i4wJAE0jCuw7",
        "outputId": "2b2d2816-c9f6-416c-e7e0-1abf18874d5a"
      },
      "outputs": [
        {
          "output_type": "execute_result",
          "data": {
            "text/plain": [
              "['634188771', '3470998']"
            ]
          },
          "metadata": {},
          "execution_count": 15
        }
      ],
      "source": [
        "# Extract id of Baby products in the database\n",
        "baby = tsv0.map(lambda x: x[1]).distinct()\n",
        "baby.take(2)"
      ]
    },
    {
      "cell_type": "code",
      "execution_count": 16,
      "metadata": {
        "colab": {
          "base_uri": "https://localhost:8080/"
        },
        "id": "R9xXpb1yCuw8",
        "outputId": "72b372a8-cdd1-4916-f6b7-d0413695c254"
      },
      "outputs": [
        {
          "output_type": "execute_result",
          "data": {
            "text/plain": [
              "['262935067', '452318038']"
            ]
          },
          "metadata": {},
          "execution_count": 16
        }
      ],
      "source": [
        "# Extract id of Digital Music products in the database\n",
        "music = tsv1.map(lambda x: x[1]).distinct()\n",
        "music.take(2)"
      ]
    },
    {
      "cell_type": "code",
      "execution_count": 17,
      "metadata": {
        "colab": {
          "base_uri": "https://localhost:8080/"
        },
        "id": "iBUhtCMuCuw8",
        "outputId": "6f2655bc-70b0-4e7f-e897-7ca3870019f5"
      },
      "outputs": [
        {
          "output_type": "execute_result",
          "data": {
            "text/plain": [
              "[('37918955', ('854565914', '854565914')),\n",
              " ('37918955', ('854565914', '490481000'))]"
            ]
          },
          "metadata": {},
          "execution_count": 17
        }
      ],
      "source": [
        "#### CELL 5\n",
        "# Create couples of items purchased by the same customer\n",
        "# RDD [(customer1, (product1,product2)),(customer2, (product3,product4)),(...)]\n",
        "data_joined = data.join(data)\n",
        "data_joined.take(2)"
      ]
    },
    {
      "cell_type": "code",
      "execution_count": 18,
      "metadata": {
        "colab": {
          "base_uri": "https://localhost:8080/"
        },
        "id": "fG63_B9wCuw9",
        "outputId": "779a5ff5-d641-459b-c4d2-384c1829ce3d"
      },
      "outputs": [
        {
          "output_type": "execute_result",
          "data": {
            "text/plain": [
              "[('37918955', ('854565914', '490481000')),\n",
              " ('37918955', ('490481000', '854565914'))]"
            ]
          },
          "metadata": {},
          "execution_count": 18
        }
      ],
      "source": [
        "#### CELL 6\n",
        "# Remove duplicate item couples created by the join\n",
        "# RDD [(customer1, (product1,product2)),(customer2, (product3,product4)),(...)]\n",
        "data_filtered = data_joined.filter(lambda x : x[1][0]!= x[1][1])\n",
        "data_filtered.take(2)"
      ]
    },
    {
      "cell_type": "code",
      "execution_count": 19,
      "metadata": {
        "colab": {
          "base_uri": "https://localhost:8080/"
        },
        "id": "9sOMBHcrCuw-",
        "outputId": "d994a82f-fc0e-48bf-ef4a-ae44716cb3c2"
      },
      "outputs": [
        {
          "output_type": "execute_result",
          "data": {
            "text/plain": [
              "[('854565914', '490481000'), ('490481000', '854565914')]"
            ]
          },
          "metadata": {},
          "execution_count": 19
        }
      ],
      "source": [
        "#### CELL 7\n",
        "# Create list of links between products\n",
        "# RDD [(product1,product2),(product3,product4),(...))]\n",
        "edge_list = data_filtered.map(lambda x : x[1])\n",
        "edge_list.take(2) "
      ]
    },
    {
      "cell_type": "code",
      "execution_count": 20,
      "metadata": {
        "colab": {
          "base_uri": "https://localhost:8080/"
        },
        "id": "f3EuPTDnCuw_",
        "outputId": "e7ab0808-5879-4c19-df8a-79a991f15d57"
      },
      "outputs": [
        {
          "output_type": "execute_result",
          "data": {
            "text/plain": [
              "[('836147897',\n",
              "  ['967752486',\n",
              "   '887517898',\n",
              "   '415731975',\n",
              "   '528071976',\n",
              "   '560406875',\n",
              "   '818721337',\n",
              "   '415598946',\n",
              "   '416214756',\n",
              "   '86179783',\n",
              "   '452282510',\n",
              "   '275063181',\n",
              "   '827224227',\n",
              "   '573236431',\n",
              "   '834995492',\n",
              "   '979920777',\n",
              "   '953316140',\n",
              "   '574807396',\n",
              "   '776150326',\n",
              "   '984802690',\n",
              "   '460097031',\n",
              "   '163440737',\n",
              "   '800875796',\n",
              "   '449090600',\n",
              "   '821904335',\n",
              "   '291179855',\n",
              "   '893151859',\n",
              "   '264861886',\n",
              "   '939095828',\n",
              "   '579960040',\n",
              "   '506603708',\n",
              "   '188572504',\n",
              "   '460614821',\n",
              "   '923540564',\n",
              "   '193018037',\n",
              "   '191634713',\n",
              "   '705338946',\n",
              "   '36631007',\n",
              "   '833839670',\n",
              "   '339277020',\n",
              "   '441122955',\n",
              "   '418916297',\n",
              "   '532444662',\n",
              "   '496503960',\n",
              "   '16279205',\n",
              "   '259550431',\n",
              "   '606911864',\n",
              "   '776917390',\n",
              "   '187006885',\n",
              "   '222552751',\n",
              "   '389658184',\n",
              "   '532703993',\n",
              "   '877861502',\n",
              "   '977277395',\n",
              "   '66742235',\n",
              "   '566206850',\n",
              "   '467853916',\n",
              "   '70269024',\n",
              "   '708018673',\n",
              "   '411031695',\n",
              "   '515800272',\n",
              "   '579809267',\n",
              "   '329445873',\n",
              "   '736662180',\n",
              "   '782808000',\n",
              "   '107425634',\n",
              "   '623746984',\n",
              "   '515800272',\n",
              "   '297776332',\n",
              "   '852211568',\n",
              "   '611194540',\n",
              "   '933318318',\n",
              "   '401348978',\n",
              "   '7463023',\n",
              "   '308789857',\n",
              "   '957489163',\n",
              "   '595211959',\n",
              "   '354089838',\n",
              "   '817546342',\n",
              "   '325959452',\n",
              "   '567185900',\n",
              "   '319793578',\n",
              "   '766649565',\n",
              "   '106541360',\n",
              "   '386864066',\n",
              "   '181406355',\n",
              "   '769700213',\n",
              "   '997159907',\n",
              "   '809322760',\n",
              "   '45089406',\n",
              "   '83411314',\n",
              "   '854993067',\n",
              "   '537163315',\n",
              "   '982881728',\n",
              "   '665974851',\n",
              "   '634575195',\n",
              "   '590598700',\n",
              "   '746249322',\n",
              "   '681597757',\n",
              "   '337291619',\n",
              "   '375609260',\n",
              "   '268303112',\n",
              "   '414529779',\n",
              "   '141813990',\n",
              "   '65780667',\n",
              "   '107989279',\n",
              "   '993671244',\n",
              "   '243425690',\n",
              "   '691292243',\n",
              "   '616017610',\n",
              "   '214006984',\n",
              "   '879247207',\n",
              "   '47173568',\n",
              "   '809246204',\n",
              "   '89503470',\n",
              "   '838988631',\n",
              "   '58891059',\n",
              "   '775043412',\n",
              "   '111339363',\n",
              "   '591139452',\n",
              "   '29926584',\n",
              "   '372091927',\n",
              "   '86922018',\n",
              "   '791905014',\n",
              "   '42586215',\n",
              "   '646998340',\n",
              "   '492565670',\n",
              "   '218814822',\n",
              "   '200428852',\n",
              "   '376488389',\n",
              "   '387476744',\n",
              "   '944480085',\n",
              "   '504691891',\n",
              "   '952046152',\n",
              "   '915214534',\n",
              "   '370364209',\n",
              "   '972673046',\n",
              "   '143957713',\n",
              "   '123028472',\n",
              "   '947437291',\n",
              "   '350942893',\n",
              "   '330723640',\n",
              "   '83411314',\n",
              "   '295213948',\n",
              "   '946692576',\n",
              "   '468435092',\n",
              "   '888366008',\n",
              "   '234180358',\n",
              "   '153724923',\n",
              "   '788835694',\n",
              "   '505334178',\n",
              "   '989507619',\n",
              "   '346248225',\n",
              "   '179807357',\n",
              "   '323953652',\n",
              "   '637306969',\n",
              "   '738646791',\n",
              "   '426943963',\n",
              "   '551426944',\n",
              "   '19601082',\n",
              "   '497561505',\n",
              "   '648582283',\n",
              "   '990504204',\n",
              "   '842359475',\n",
              "   '557255467',\n",
              "   '415421763',\n",
              "   '659174339',\n",
              "   '827397504',\n",
              "   '963276026',\n",
              "   '874729927',\n",
              "   '811268082',\n",
              "   '890292702',\n",
              "   '211963857',\n",
              "   '494610587',\n",
              "   '723799810',\n",
              "   '512482567',\n",
              "   '820743525',\n",
              "   '932874238',\n",
              "   '159790252',\n",
              "   '808017020',\n",
              "   '664764799',\n",
              "   '574807396',\n",
              "   '892018890',\n",
              "   '484615135',\n",
              "   '646697347',\n",
              "   '625286696',\n",
              "   '100170949',\n",
              "   '889429340',\n",
              "   '34259310',\n",
              "   '259583538',\n",
              "   '80378463',\n",
              "   '129625425',\n",
              "   '100688251',\n",
              "   '742239133',\n",
              "   '960998162',\n",
              "   '871733687',\n",
              "   '393623527',\n",
              "   '716532859',\n",
              "   '661025810',\n",
              "   '541679720',\n",
              "   '499654030',\n",
              "   '255355822',\n",
              "   '742239133',\n",
              "   '285438435',\n",
              "   '42745407',\n",
              "   '922948387',\n",
              "   '116157724',\n",
              "   '235971499',\n",
              "   '208462329',\n",
              "   '357523933',\n",
              "   '800046243',\n",
              "   '88551588',\n",
              "   '992712602',\n",
              "   '992712602',\n",
              "   '981466827',\n",
              "   '577434583',\n",
              "   '198924950',\n",
              "   '758050790',\n",
              "   '681830581',\n",
              "   '25916091',\n",
              "   '561396088',\n",
              "   '184692015',\n",
              "   '278931843',\n",
              "   '727939884',\n",
              "   '516289533',\n",
              "   '143957713',\n",
              "   '544219832',\n",
              "   '945553259',\n",
              "   '87417192',\n",
              "   '930702386',\n",
              "   '90998235',\n",
              "   '800046243',\n",
              "   '372255824',\n",
              "   '52088970',\n",
              "   '321419481',\n",
              "   '874401484',\n",
              "   '958309088',\n",
              "   '546655305',\n",
              "   '909184410',\n",
              "   '642922361',\n",
              "   '531395641',\n",
              "   '594366146',\n",
              "   '814820018',\n",
              "   '393607192',\n",
              "   '959539151',\n",
              "   '646967318',\n",
              "   '906585850',\n",
              "   '826133280',\n",
              "   '939250051',\n",
              "   '784010907',\n",
              "   '47009526',\n",
              "   '911780827',\n",
              "   '175568661',\n",
              "   '843751975',\n",
              "   '457500165',\n",
              "   '866440764',\n",
              "   '723224780',\n",
              "   '886153371',\n",
              "   '395706097',\n",
              "   '217284435',\n",
              "   '565387034',\n",
              "   '411919563',\n",
              "   '210042237',\n",
              "   '220611682',\n",
              "   '125534449',\n",
              "   '708608961',\n",
              "   '497729531',\n",
              "   '560738451',\n",
              "   '294502267',\n",
              "   '571629775',\n",
              "   '775626966',\n",
              "   '127616492',\n",
              "   '571089112',\n",
              "   '977222188',\n",
              "   '198924950',\n",
              "   '241985329',\n",
              "   '182641158',\n",
              "   '472598185',\n",
              "   '988024225',\n",
              "   '712443884',\n",
              "   '809591312',\n",
              "   '460357722',\n",
              "   '658152927',\n",
              "   '193884264',\n",
              "   '416056590',\n",
              "   '600296854',\n",
              "   '793750927',\n",
              "   '59643185',\n",
              "   '221816748',\n",
              "   '372109758',\n",
              "   '73185571',\n",
              "   '309582014',\n",
              "   '371056459',\n",
              "   '224255332',\n",
              "   '695824217',\n",
              "   '841960245',\n",
              "   '78064122',\n",
              "   '375268914',\n",
              "   '716235626',\n",
              "   '631647699',\n",
              "   '575734842',\n",
              "   '380619977',\n",
              "   '850036950',\n",
              "   '188710192',\n",
              "   '973529017',\n",
              "   '408889411',\n",
              "   '89454635',\n",
              "   '972673046',\n",
              "   '222160502',\n",
              "   '907765758',\n",
              "   '442197944',\n",
              "   '519461220',\n",
              "   '171100622',\n",
              "   '116157724',\n",
              "   '751768482',\n",
              "   '901613654',\n",
              "   '981966355',\n",
              "   '579208502',\n",
              "   '617674196',\n",
              "   '726749888',\n",
              "   '738322990',\n",
              "   '713584563',\n",
              "   '515800272',\n",
              "   '919561723',\n",
              "   '562024856',\n",
              "   '898538514',\n",
              "   '288313690',\n",
              "   '480249246',\n",
              "   '47120409',\n",
              "   '250517482',\n",
              "   '817876884',\n",
              "   '308280565',\n",
              "   '739193909',\n",
              "   '60800852',\n",
              "   '835568648',\n",
              "   '20999175',\n",
              "   '284025240',\n",
              "   '75007373',\n",
              "   '40339050',\n",
              "   '76928288',\n",
              "   '82827454',\n",
              "   '108001584',\n",
              "   '396515358',\n",
              "   '238430947',\n",
              "   '441122955',\n",
              "   '681562426',\n",
              "   '833983922',\n",
              "   '531344356',\n",
              "   '922415943',\n",
              "   '874769375',\n",
              "   '24280075',\n",
              "   '533404581',\n",
              "   '650675180',\n",
              "   '23087992',\n",
              "   '205248918',\n",
              "   '594090248',\n",
              "   '147379610',\n",
              "   '635353376',\n",
              "   '293807833',\n",
              "   '301611194',\n",
              "   '985518895',\n",
              "   '439807196',\n",
              "   '238950877',\n",
              "   '15861026',\n",
              "   '416056590',\n",
              "   '361167205',\n",
              "   '97130042',\n",
              "   '93827401',\n",
              "   '884085199',\n",
              "   '920282101',\n",
              "   '254791921',\n",
              "   '617657841',\n",
              "   '133861324',\n",
              "   '51892702',\n",
              "   '154254808',\n",
              "   '676104743',\n",
              "   '673332559',\n",
              "   '467849720',\n",
              "   '473439561',\n",
              "   '501417066',\n",
              "   '588397116',\n",
              "   '949417712',\n",
              "   '899586584',\n",
              "   '174815889',\n",
              "   '143957713',\n",
              "   '275063181',\n",
              "   '723849',\n",
              "   '990504204',\n",
              "   '998292641',\n",
              "   '496274496',\n",
              "   '893527040',\n",
              "   '593986877',\n",
              "   '524898158',\n",
              "   '388532481',\n",
              "   '369112713',\n",
              "   '425753576',\n",
              "   '136175054',\n",
              "   '557255467',\n",
              "   '755749683',\n",
              "   '243315926'])]"
            ]
          },
          "metadata": {},
          "execution_count": 20
        }
      ],
      "source": [
        "#### CELL 8\n",
        "# Make second item a list\n",
        "# RDD [(node1, [node2]),(node1, [node2]),(...)]\n",
        "adjacency1 = edge_list.mapValues(lambda v: [v])\n",
        "\n",
        "# RDD [(node1,[node2,node3,...]),(...)]\n",
        "adjacency_list = adjacency1.reduceByKey(lambda a,b: a + b)\n",
        "\n",
        "adjacency_list.take(1)"
      ]
    },
    {
      "cell_type": "markdown",
      "metadata": {
        "id": "Ynfaz6uECuxA"
      },
      "source": [
        "### Calculate pagerank"
      ]
    },
    {
      "cell_type": "code",
      "execution_count": 26,
      "metadata": {
        "colab": {
          "base_uri": "https://localhost:8080/"
        },
        "id": "1eyglSkxCuxA",
        "outputId": "51b1a95f-3c84-4c69-a83b-389950f05c5f"
      },
      "outputs": [
        {
          "output_type": "execute_result",
          "data": {
            "text/plain": [
              "[('836147897', '967752486', 0.002506265664160401),\n",
              " ('836147897', '887517898', 0.002506265664160401),\n",
              " ('836147897', '415731975', 0.002506265664160401),\n",
              " ('836147897', '528071976', 0.002506265664160401),\n",
              " ('836147897', '560406875', 0.002506265664160401),\n",
              " ('836147897', '818721337', 0.002506265664160401),\n",
              " ('836147897', '415598946', 0.002506265664160401),\n",
              " ('836147897', '416214756', 0.002506265664160401),\n",
              " ('836147897', '86179783', 0.002506265664160401),\n",
              " ('836147897', '452282510', 0.002506265664160401)]"
            ]
          },
          "metadata": {},
          "execution_count": 26
        }
      ],
      "source": [
        "#### CELL 9\n",
        "def calculate_initial_contribs(row):\n",
        "    \"\"\"\n",
        "    This function takes elements from the joined dataset above and\n",
        "    computes the contribution to each outgoing link based on the\n",
        "    current rank.\n",
        "    \"\"\"\n",
        "    item, array = row\n",
        "    num_edges = len(array)\n",
        "    for node in array:\n",
        "        yield item, node, 1/num_edges\n",
        "\n",
        "# transition matrix stored as triplets\n",
        "# RDD [(product1,(product2,probability)),(product3,(product4,probability))]\n",
        "trans_matrix = adjacency_list.flatMap(calculate_initial_contribs).cache()\n",
        "trans_matrix.take(10) "
      ]
    },
    {
      "cell_type": "code",
      "execution_count": 22,
      "metadata": {
        "colab": {
          "base_uri": "https://localhost:8080/"
        },
        "id": "pH-3byHpCuxA",
        "outputId": "73703dbc-b4be-4db2-fff4-1b36b2eefdde"
      },
      "outputs": [
        {
          "output_type": "execute_result",
          "data": {
            "text/plain": [
              "[(0, (355807, 0.002506265664160401)), (0, (251251, 0.002506265664160401))]"
            ]
          },
          "metadata": {},
          "execution_count": 22
        }
      ],
      "source": [
        "# Product names\n",
        "keys = trans_matrix.map(lambda x : x[0]).distinct().collect()\n",
        "# map product names to integers\n",
        "indexmap = dict(zip(keys, range(len(keys))))\n",
        "\n",
        "# map items to indexes\n",
        "# RDD [(index_product1,(index_product2,probability)),(index_product3,(index_product4,probability))]\n",
        "hashed_matrix = trans_matrix.map(lambda x: (indexmap[x[0]],(indexmap[x[1]],x[2])))\n",
        "hashed_matrix.take(2)"
      ]
    },
    {
      "cell_type": "code",
      "execution_count": 23,
      "metadata": {
        "id": "-WYlz3CNCuxB"
      },
      "outputs": [],
      "source": [
        "import numpy as np\n",
        "\n",
        "# Array of pagerank stored in memory\n",
        "n = len(keys) # num of products in adjacency list\n",
        "pgrnk = np.ones(n)/n # time t\n",
        "previus_pgrnk = np.ones(n) # time -1\n",
        "     \n",
        "# MSE distance between previous pgrank iteration\n",
        "def l2distance(v, q):   \n",
        "    return sum([(q_el - v_el)**2 for v_el, q_el in zip(v, q)])"
      ]
    },
    {
      "cell_type": "code",
      "execution_count": 24,
      "metadata": {
        "colab": {
          "base_uri": "https://localhost:8080/",
          "height": 539
        },
        "id": "oeqmmILbCuxB",
        "outputId": "224306a6-3741-4137-e628-01f5be63054d"
      },
      "outputs": [
        {
          "output_type": "stream",
          "name": "stderr",
          "text": [
            "ERROR:root:KeyboardInterrupt while sending command.\n",
            "Traceback (most recent call last):\n",
            "  File \"/content/spark-3.3.2-bin-hadoop3/python/lib/py4j-0.10.9.5-src.zip/py4j/java_gateway.py\", line 1038, in send_command\n",
            "    response = connection.send_command(command)\n",
            "  File \"/content/spark-3.3.2-bin-hadoop3/python/lib/py4j-0.10.9.5-src.zip/py4j/clientserver.py\", line 511, in send_command\n",
            "    answer = smart_decode(self.stream.readline()[:-1])\n",
            "  File \"/usr/lib/python3.9/socket.py\", line 704, in readinto\n",
            "    return self._sock.recv_into(b)\n",
            "KeyboardInterrupt\n"
          ]
        },
        {
          "output_type": "error",
          "ename": "KeyboardInterrupt",
          "evalue": "ignored",
          "traceback": [
            "\u001b[0;31m---------------------------------------------------------------------------\u001b[0m",
            "\u001b[0;31mKeyboardInterrupt\u001b[0m                         Traceback (most recent call last)",
            "\u001b[0;32m<ipython-input-24-2d097d39ba05>\u001b[0m in \u001b[0;36m<module>\u001b[0;34m\u001b[0m\n\u001b[1;32m      8\u001b[0m     \u001b[0mprevius_pgrnk\u001b[0m \u001b[0;34m=\u001b[0m \u001b[0mnp\u001b[0m\u001b[0;34m.\u001b[0m\u001b[0mcopy\u001b[0m\u001b[0;34m(\u001b[0m\u001b[0mpgrnk\u001b[0m\u001b[0;34m)\u001b[0m\u001b[0;34m\u001b[0m\u001b[0;34m\u001b[0m\u001b[0m\n\u001b[1;32m      9\u001b[0m \u001b[0;34m\u001b[0m\u001b[0m\n\u001b[0;32m---> 10\u001b[0;31m     page_rank_values = (hashed_matrix\n\u001b[0m\u001b[1;32m     11\u001b[0m                     \u001b[0;34m.\u001b[0m\u001b[0mmapValues\u001b[0m\u001b[0;34m(\u001b[0m\u001b[0;32mlambda\u001b[0m \u001b[0mv\u001b[0m\u001b[0;34m:\u001b[0m \u001b[0mtax\u001b[0m\u001b[0;34m*\u001b[0m\u001b[0;34m(\u001b[0m\u001b[0mv\u001b[0m\u001b[0;34m[\u001b[0m\u001b[0;36m1\u001b[0m\u001b[0;34m]\u001b[0m\u001b[0;34m*\u001b[0m\u001b[0mpgrnk\u001b[0m\u001b[0;34m[\u001b[0m\u001b[0mv\u001b[0m\u001b[0;34m[\u001b[0m\u001b[0;36m0\u001b[0m\u001b[0;34m]\u001b[0m\u001b[0;34m]\u001b[0m\u001b[0;34m)\u001b[0m \u001b[0;34m+\u001b[0m \u001b[0;34m(\u001b[0m\u001b[0;36m1\u001b[0m\u001b[0;34m-\u001b[0m\u001b[0mtax\u001b[0m\u001b[0;34m)\u001b[0m\u001b[0;34m*\u001b[0m\u001b[0;34m(\u001b[0m\u001b[0;36m1\u001b[0m\u001b[0;34m/\u001b[0m\u001b[0mn\u001b[0m\u001b[0;34m)\u001b[0m\u001b[0;34m)\u001b[0m\u001b[0;34m\u001b[0m\u001b[0;34m\u001b[0m\u001b[0m\n\u001b[1;32m     12\u001b[0m                     \u001b[0;34m.\u001b[0m\u001b[0mreduceByKey\u001b[0m\u001b[0;34m(\u001b[0m\u001b[0;32mlambda\u001b[0m \u001b[0ma\u001b[0m\u001b[0;34m,\u001b[0m \u001b[0mb\u001b[0m\u001b[0;34m:\u001b[0m \u001b[0ma\u001b[0m\u001b[0;34m+\u001b[0m\u001b[0mb\u001b[0m\u001b[0;34m)\u001b[0m\u001b[0;34m\u001b[0m\u001b[0;34m\u001b[0m\u001b[0m\n",
            "\u001b[0;32m/content/spark-3.3.2-bin-hadoop3/python/pyspark/rdd.py\u001b[0m in \u001b[0;36msortByKey\u001b[0;34m(self, ascending, numPartitions, keyfunc)\u001b[0m\n\u001b[1;32m    993\u001b[0m         \u001b[0;31m# the key-space into bins such that the bins have roughly the same\u001b[0m\u001b[0;34m\u001b[0m\u001b[0;34m\u001b[0m\u001b[0m\n\u001b[1;32m    994\u001b[0m         \u001b[0;31m# number of (key, value) pairs falling into them\u001b[0m\u001b[0;34m\u001b[0m\u001b[0;34m\u001b[0m\u001b[0m\n\u001b[0;32m--> 995\u001b[0;31m         \u001b[0mrddSize\u001b[0m \u001b[0;34m=\u001b[0m \u001b[0mself\u001b[0m\u001b[0;34m.\u001b[0m\u001b[0mcount\u001b[0m\u001b[0;34m(\u001b[0m\u001b[0;34m)\u001b[0m\u001b[0;34m\u001b[0m\u001b[0;34m\u001b[0m\u001b[0m\n\u001b[0m\u001b[1;32m    996\u001b[0m         \u001b[0;32mif\u001b[0m \u001b[0;32mnot\u001b[0m \u001b[0mrddSize\u001b[0m\u001b[0;34m:\u001b[0m\u001b[0;34m\u001b[0m\u001b[0;34m\u001b[0m\u001b[0m\n\u001b[1;32m    997\u001b[0m             \u001b[0;32mreturn\u001b[0m \u001b[0mself\u001b[0m  \u001b[0;31m# empty RDD\u001b[0m\u001b[0;34m\u001b[0m\u001b[0;34m\u001b[0m\u001b[0m\n",
            "\u001b[0;32m/content/spark-3.3.2-bin-hadoop3/python/pyspark/rdd.py\u001b[0m in \u001b[0;36mcount\u001b[0;34m(self)\u001b[0m\n\u001b[1;32m   1519\u001b[0m         \u001b[0;36m3\u001b[0m\u001b[0;34m\u001b[0m\u001b[0;34m\u001b[0m\u001b[0m\n\u001b[1;32m   1520\u001b[0m         \"\"\"\n\u001b[0;32m-> 1521\u001b[0;31m         \u001b[0;32mreturn\u001b[0m \u001b[0mself\u001b[0m\u001b[0;34m.\u001b[0m\u001b[0mmapPartitions\u001b[0m\u001b[0;34m(\u001b[0m\u001b[0;32mlambda\u001b[0m \u001b[0mi\u001b[0m\u001b[0;34m:\u001b[0m \u001b[0;34m[\u001b[0m\u001b[0msum\u001b[0m\u001b[0;34m(\u001b[0m\u001b[0;36m1\u001b[0m \u001b[0;32mfor\u001b[0m \u001b[0m_\u001b[0m \u001b[0;32min\u001b[0m \u001b[0mi\u001b[0m\u001b[0;34m)\u001b[0m\u001b[0;34m]\u001b[0m\u001b[0;34m)\u001b[0m\u001b[0;34m.\u001b[0m\u001b[0msum\u001b[0m\u001b[0;34m(\u001b[0m\u001b[0;34m)\u001b[0m\u001b[0;34m\u001b[0m\u001b[0;34m\u001b[0m\u001b[0m\n\u001b[0m\u001b[1;32m   1522\u001b[0m \u001b[0;34m\u001b[0m\u001b[0m\n\u001b[1;32m   1523\u001b[0m     \u001b[0;32mdef\u001b[0m \u001b[0mstats\u001b[0m\u001b[0;34m(\u001b[0m\u001b[0mself\u001b[0m\u001b[0;34m:\u001b[0m \u001b[0;34m\"RDD[NumberOrArray]\"\u001b[0m\u001b[0;34m)\u001b[0m \u001b[0;34m->\u001b[0m \u001b[0mStatCounter\u001b[0m\u001b[0;34m:\u001b[0m\u001b[0;34m\u001b[0m\u001b[0;34m\u001b[0m\u001b[0m\n",
            "\u001b[0;32m/content/spark-3.3.2-bin-hadoop3/python/pyspark/rdd.py\u001b[0m in \u001b[0;36msum\u001b[0;34m(self)\u001b[0m\n\u001b[1;32m   1506\u001b[0m         \u001b[0;36m6.0\u001b[0m\u001b[0;34m\u001b[0m\u001b[0;34m\u001b[0m\u001b[0m\n\u001b[1;32m   1507\u001b[0m         \"\"\"\n\u001b[0;32m-> 1508\u001b[0;31m         return self.mapPartitions(lambda x: [sum(x)]).fold(  # type: ignore[return-value]\n\u001b[0m\u001b[1;32m   1509\u001b[0m             \u001b[0;36m0\u001b[0m\u001b[0;34m,\u001b[0m \u001b[0moperator\u001b[0m\u001b[0;34m.\u001b[0m\u001b[0madd\u001b[0m\u001b[0;34m\u001b[0m\u001b[0;34m\u001b[0m\u001b[0m\n\u001b[1;32m   1510\u001b[0m         )\n",
            "\u001b[0;32m/content/spark-3.3.2-bin-hadoop3/python/pyspark/rdd.py\u001b[0m in \u001b[0;36mfold\u001b[0;34m(self, zeroValue, op)\u001b[0m\n\u001b[1;32m   1334\u001b[0m         \u001b[0;31m# zeroValue provided to each partition is unique from the one provided\u001b[0m\u001b[0;34m\u001b[0m\u001b[0;34m\u001b[0m\u001b[0m\n\u001b[1;32m   1335\u001b[0m         \u001b[0;31m# to the final reduce call\u001b[0m\u001b[0;34m\u001b[0m\u001b[0;34m\u001b[0m\u001b[0m\n\u001b[0;32m-> 1336\u001b[0;31m         \u001b[0mvals\u001b[0m \u001b[0;34m=\u001b[0m \u001b[0mself\u001b[0m\u001b[0;34m.\u001b[0m\u001b[0mmapPartitions\u001b[0m\u001b[0;34m(\u001b[0m\u001b[0mfunc\u001b[0m\u001b[0;34m)\u001b[0m\u001b[0;34m.\u001b[0m\u001b[0mcollect\u001b[0m\u001b[0;34m(\u001b[0m\u001b[0;34m)\u001b[0m\u001b[0;34m\u001b[0m\u001b[0;34m\u001b[0m\u001b[0m\n\u001b[0m\u001b[1;32m   1337\u001b[0m         \u001b[0;32mreturn\u001b[0m \u001b[0mreduce\u001b[0m\u001b[0;34m(\u001b[0m\u001b[0mop\u001b[0m\u001b[0;34m,\u001b[0m \u001b[0mvals\u001b[0m\u001b[0;34m,\u001b[0m \u001b[0mzeroValue\u001b[0m\u001b[0;34m)\u001b[0m\u001b[0;34m\u001b[0m\u001b[0;34m\u001b[0m\u001b[0m\n\u001b[1;32m   1338\u001b[0m \u001b[0;34m\u001b[0m\u001b[0m\n",
            "\u001b[0;32m/content/spark-3.3.2-bin-hadoop3/python/pyspark/rdd.py\u001b[0m in \u001b[0;36mcollect\u001b[0;34m(self)\u001b[0m\n\u001b[1;32m   1195\u001b[0m         \u001b[0;32mwith\u001b[0m \u001b[0mSCCallSiteSync\u001b[0m\u001b[0;34m(\u001b[0m\u001b[0mself\u001b[0m\u001b[0;34m.\u001b[0m\u001b[0mcontext\u001b[0m\u001b[0;34m)\u001b[0m\u001b[0;34m:\u001b[0m\u001b[0;34m\u001b[0m\u001b[0;34m\u001b[0m\u001b[0m\n\u001b[1;32m   1196\u001b[0m             \u001b[0;32massert\u001b[0m \u001b[0mself\u001b[0m\u001b[0;34m.\u001b[0m\u001b[0mctx\u001b[0m\u001b[0;34m.\u001b[0m\u001b[0m_jvm\u001b[0m \u001b[0;32mis\u001b[0m \u001b[0;32mnot\u001b[0m \u001b[0;32mNone\u001b[0m\u001b[0;34m\u001b[0m\u001b[0;34m\u001b[0m\u001b[0m\n\u001b[0;32m-> 1197\u001b[0;31m             \u001b[0msock_info\u001b[0m \u001b[0;34m=\u001b[0m \u001b[0mself\u001b[0m\u001b[0;34m.\u001b[0m\u001b[0mctx\u001b[0m\u001b[0;34m.\u001b[0m\u001b[0m_jvm\u001b[0m\u001b[0;34m.\u001b[0m\u001b[0mPythonRDD\u001b[0m\u001b[0;34m.\u001b[0m\u001b[0mcollectAndServe\u001b[0m\u001b[0;34m(\u001b[0m\u001b[0mself\u001b[0m\u001b[0;34m.\u001b[0m\u001b[0m_jrdd\u001b[0m\u001b[0;34m.\u001b[0m\u001b[0mrdd\u001b[0m\u001b[0;34m(\u001b[0m\u001b[0;34m)\u001b[0m\u001b[0;34m)\u001b[0m\u001b[0;34m\u001b[0m\u001b[0;34m\u001b[0m\u001b[0m\n\u001b[0m\u001b[1;32m   1198\u001b[0m         \u001b[0;32mreturn\u001b[0m \u001b[0mlist\u001b[0m\u001b[0;34m(\u001b[0m\u001b[0m_load_from_socket\u001b[0m\u001b[0;34m(\u001b[0m\u001b[0msock_info\u001b[0m\u001b[0;34m,\u001b[0m \u001b[0mself\u001b[0m\u001b[0;34m.\u001b[0m\u001b[0m_jrdd_deserializer\u001b[0m\u001b[0;34m)\u001b[0m\u001b[0;34m)\u001b[0m\u001b[0;34m\u001b[0m\u001b[0;34m\u001b[0m\u001b[0m\n\u001b[1;32m   1199\u001b[0m \u001b[0;34m\u001b[0m\u001b[0m\n",
            "\u001b[0;32m/content/spark-3.3.2-bin-hadoop3/python/lib/py4j-0.10.9.5-src.zip/py4j/java_gateway.py\u001b[0m in \u001b[0;36m__call__\u001b[0;34m(self, *args)\u001b[0m\n\u001b[1;32m   1318\u001b[0m             \u001b[0mproto\u001b[0m\u001b[0;34m.\u001b[0m\u001b[0mEND_COMMAND_PART\u001b[0m\u001b[0;34m\u001b[0m\u001b[0;34m\u001b[0m\u001b[0m\n\u001b[1;32m   1319\u001b[0m \u001b[0;34m\u001b[0m\u001b[0m\n\u001b[0;32m-> 1320\u001b[0;31m         \u001b[0manswer\u001b[0m \u001b[0;34m=\u001b[0m \u001b[0mself\u001b[0m\u001b[0;34m.\u001b[0m\u001b[0mgateway_client\u001b[0m\u001b[0;34m.\u001b[0m\u001b[0msend_command\u001b[0m\u001b[0;34m(\u001b[0m\u001b[0mcommand\u001b[0m\u001b[0;34m)\u001b[0m\u001b[0;34m\u001b[0m\u001b[0;34m\u001b[0m\u001b[0m\n\u001b[0m\u001b[1;32m   1321\u001b[0m         return_value = get_return_value(\n\u001b[1;32m   1322\u001b[0m             answer, self.gateway_client, self.target_id, self.name)\n",
            "\u001b[0;32m/content/spark-3.3.2-bin-hadoop3/python/lib/py4j-0.10.9.5-src.zip/py4j/java_gateway.py\u001b[0m in \u001b[0;36msend_command\u001b[0;34m(self, command, retry, binary)\u001b[0m\n\u001b[1;32m   1036\u001b[0m         \u001b[0mconnection\u001b[0m \u001b[0;34m=\u001b[0m \u001b[0mself\u001b[0m\u001b[0;34m.\u001b[0m\u001b[0m_get_connection\u001b[0m\u001b[0;34m(\u001b[0m\u001b[0;34m)\u001b[0m\u001b[0;34m\u001b[0m\u001b[0;34m\u001b[0m\u001b[0m\n\u001b[1;32m   1037\u001b[0m         \u001b[0;32mtry\u001b[0m\u001b[0;34m:\u001b[0m\u001b[0;34m\u001b[0m\u001b[0;34m\u001b[0m\u001b[0m\n\u001b[0;32m-> 1038\u001b[0;31m             \u001b[0mresponse\u001b[0m \u001b[0;34m=\u001b[0m \u001b[0mconnection\u001b[0m\u001b[0;34m.\u001b[0m\u001b[0msend_command\u001b[0m\u001b[0;34m(\u001b[0m\u001b[0mcommand\u001b[0m\u001b[0;34m)\u001b[0m\u001b[0;34m\u001b[0m\u001b[0;34m\u001b[0m\u001b[0m\n\u001b[0m\u001b[1;32m   1039\u001b[0m             \u001b[0;32mif\u001b[0m \u001b[0mbinary\u001b[0m\u001b[0;34m:\u001b[0m\u001b[0;34m\u001b[0m\u001b[0;34m\u001b[0m\u001b[0m\n\u001b[1;32m   1040\u001b[0m                 \u001b[0;32mreturn\u001b[0m \u001b[0mresponse\u001b[0m\u001b[0;34m,\u001b[0m \u001b[0mself\u001b[0m\u001b[0;34m.\u001b[0m\u001b[0m_create_connection_guard\u001b[0m\u001b[0;34m(\u001b[0m\u001b[0mconnection\u001b[0m\u001b[0;34m)\u001b[0m\u001b[0;34m\u001b[0m\u001b[0;34m\u001b[0m\u001b[0m\n",
            "\u001b[0;32m/content/spark-3.3.2-bin-hadoop3/python/lib/py4j-0.10.9.5-src.zip/py4j/clientserver.py\u001b[0m in \u001b[0;36msend_command\u001b[0;34m(self, command)\u001b[0m\n\u001b[1;32m    509\u001b[0m         \u001b[0;32mtry\u001b[0m\u001b[0;34m:\u001b[0m\u001b[0;34m\u001b[0m\u001b[0;34m\u001b[0m\u001b[0m\n\u001b[1;32m    510\u001b[0m             \u001b[0;32mwhile\u001b[0m \u001b[0;32mTrue\u001b[0m\u001b[0;34m:\u001b[0m\u001b[0;34m\u001b[0m\u001b[0;34m\u001b[0m\u001b[0m\n\u001b[0;32m--> 511\u001b[0;31m                 \u001b[0manswer\u001b[0m \u001b[0;34m=\u001b[0m \u001b[0msmart_decode\u001b[0m\u001b[0;34m(\u001b[0m\u001b[0mself\u001b[0m\u001b[0;34m.\u001b[0m\u001b[0mstream\u001b[0m\u001b[0;34m.\u001b[0m\u001b[0mreadline\u001b[0m\u001b[0;34m(\u001b[0m\u001b[0;34m)\u001b[0m\u001b[0;34m[\u001b[0m\u001b[0;34m:\u001b[0m\u001b[0;34m-\u001b[0m\u001b[0;36m1\u001b[0m\u001b[0;34m]\u001b[0m\u001b[0;34m)\u001b[0m\u001b[0;34m\u001b[0m\u001b[0;34m\u001b[0m\u001b[0m\n\u001b[0m\u001b[1;32m    512\u001b[0m                 \u001b[0mlogger\u001b[0m\u001b[0;34m.\u001b[0m\u001b[0mdebug\u001b[0m\u001b[0;34m(\u001b[0m\u001b[0;34m\"Answer received: {0}\"\u001b[0m\u001b[0;34m.\u001b[0m\u001b[0mformat\u001b[0m\u001b[0;34m(\u001b[0m\u001b[0manswer\u001b[0m\u001b[0;34m)\u001b[0m\u001b[0;34m)\u001b[0m\u001b[0;34m\u001b[0m\u001b[0;34m\u001b[0m\u001b[0m\n\u001b[1;32m    513\u001b[0m                 \u001b[0;31m# Happens when a the other end is dead. There might be an empty\u001b[0m\u001b[0;34m\u001b[0m\u001b[0;34m\u001b[0m\u001b[0m\n",
            "\u001b[0;32m/usr/lib/python3.9/socket.py\u001b[0m in \u001b[0;36mreadinto\u001b[0;34m(self, b)\u001b[0m\n\u001b[1;32m    702\u001b[0m         \u001b[0;32mwhile\u001b[0m \u001b[0;32mTrue\u001b[0m\u001b[0;34m:\u001b[0m\u001b[0;34m\u001b[0m\u001b[0;34m\u001b[0m\u001b[0m\n\u001b[1;32m    703\u001b[0m             \u001b[0;32mtry\u001b[0m\u001b[0;34m:\u001b[0m\u001b[0;34m\u001b[0m\u001b[0;34m\u001b[0m\u001b[0m\n\u001b[0;32m--> 704\u001b[0;31m                 \u001b[0;32mreturn\u001b[0m \u001b[0mself\u001b[0m\u001b[0;34m.\u001b[0m\u001b[0m_sock\u001b[0m\u001b[0;34m.\u001b[0m\u001b[0mrecv_into\u001b[0m\u001b[0;34m(\u001b[0m\u001b[0mb\u001b[0m\u001b[0;34m)\u001b[0m\u001b[0;34m\u001b[0m\u001b[0;34m\u001b[0m\u001b[0m\n\u001b[0m\u001b[1;32m    705\u001b[0m             \u001b[0;32mexcept\u001b[0m \u001b[0mtimeout\u001b[0m\u001b[0;34m:\u001b[0m\u001b[0;34m\u001b[0m\u001b[0;34m\u001b[0m\u001b[0m\n\u001b[1;32m    706\u001b[0m                 \u001b[0mself\u001b[0m\u001b[0;34m.\u001b[0m\u001b[0m_timeout_occurred\u001b[0m \u001b[0;34m=\u001b[0m \u001b[0;32mTrue\u001b[0m\u001b[0;34m\u001b[0m\u001b[0;34m\u001b[0m\u001b[0m\n",
            "\u001b[0;31mKeyboardInterrupt\u001b[0m: "
          ]
        }
      ],
      "source": [
        "#### CELL 15\n",
        "tolerance = 10e-10\n",
        "max_iterations = 300\n",
        "i = 0\n",
        "tax = 0.85\n",
        "\n",
        "while(l2distance(previus_pgrnk, pgrnk) >= tolerance and i < max_iterations):\n",
        "    previus_pgrnk = np.copy(pgrnk)\n",
        "\n",
        "    page_rank_values = (hashed_matrix\n",
        "                    .mapValues(lambda v: tax*(v[1]*pgrnk[v[0]]) + (1-tax)*(1/n)) \n",
        "                    .reduceByKey(lambda a, b: a+b)\n",
        "                    .sortByKey()\n",
        "                    .collect()\n",
        "                    )\n",
        "  \n",
        "    pgrnk = np.array([c for (i, c) in page_rank_values])\n",
        "    i=i+1"
      ]
    },
    {
      "cell_type": "code",
      "execution_count": null,
      "metadata": {
        "id": "43oG3GYpCuxB"
      },
      "outputs": [],
      "source": [
        "# Avg pagerank\n",
        "np.mean(pgrnk)"
      ]
    },
    {
      "cell_type": "markdown",
      "metadata": {
        "id": "S9P6wXv7CuxD"
      },
      "source": [
        "### Topic aware page rank"
      ]
    },
    {
      "cell_type": "code",
      "execution_count": null,
      "metadata": {
        "id": "XxLQhQBrCuxD"
      },
      "outputs": [],
      "source": [
        "vgdict = video_games.collect()\n",
        "vg_array = [1 if (x in vgdict) else 0 for x in indexmap]"
      ]
    },
    {
      "cell_type": "code",
      "execution_count": null,
      "metadata": {
        "id": "Q_EgRToRCuxD"
      },
      "outputs": [],
      "source": [
        "# Reset arrays\n",
        "n = len(keys) # num of products in adjacency list\n",
        "pgrnk = np.ones(n)/n # time t\n",
        "previus_pgrnk = np.ones(n) # time -1\n"
      ]
    },
    {
      "cell_type": "code",
      "execution_count": null,
      "metadata": {
        "id": "Ekqa6CHyCuxD"
      },
      "outputs": [],
      "source": [
        "#### CELL 18\n",
        "tolerance = 10e-10\n",
        "max_iterations = 300\n",
        "i = 0\n",
        "tax = 0.85\n",
        "\n",
        "# size of the page in the topic set\n",
        "len_topic = video_games.count()    \n",
        "\n",
        "# if the page is in the selected topic set it's pgrank calculation will have\n",
        "# the added weight from the teletrasportation\n",
        "def calcPgRnk(row):\n",
        "    return tax*(row[1]*pgrnk[row[0]]) + vg_array[row[0]]*(1-tax)*(1/len_topic)\n",
        "\n",
        "\n",
        "while(l2distance(previus_pgrnk, pgrnk) >= tolerance or i < max_iterations):\n",
        "  \n",
        "    previus_pgrnk = np.copy(pgrnk) \n",
        "    page_rank_values = (hashed_matrix\n",
        "                        .mapValues(calcPgRnk) \n",
        "                        .reduceByKey(lambda a, b: a+b) \n",
        "                        .sortByKey()\n",
        "                        .collect()\n",
        "                       )\n",
        "  \n",
        "    pgrnk = np.array([c for (i, c) in page_rank_values])\n",
        "    i = i + 1"
      ]
    },
    {
      "cell_type": "code",
      "execution_count": null,
      "metadata": {
        "id": "NspPg78mCuxE"
      },
      "outputs": [],
      "source": [
        "# Avg pgrnk for videogame products\n",
        "sum = 0\n",
        "for pg,vg in zip(pgrnk,vg_array):\n",
        "    sum = pg*vg + sum \n",
        "\n",
        "sum/len_topic"
      ]
    },
    {
      "cell_type": "code",
      "execution_count": null,
      "metadata": {
        "id": "NgO-fu5JCuxE"
      },
      "outputs": [],
      "source": [
        "# Avg pgrnk for products in the other two categories\n",
        "sum_others = 0\n",
        "for pg,vg in zip(pgrnk,vg_array):\n",
        "    sum_others = pg*int(not(vg)) + sum_others\n",
        "\n",
        "sum_others / (len(pgrnk)-len_topic)"
      ]
    }
  ],
  "metadata": {
    "kernelspec": {
      "display_name": "malchiodi-MymJiiy4",
      "language": "python",
      "name": "python3"
    },
    "language_info": {
      "codemirror_mode": {
        "name": "ipython",
        "version": 3
      },
      "file_extension": ".py",
      "mimetype": "text/x-python",
      "name": "python",
      "nbconvert_exporter": "python",
      "pygments_lexer": "ipython3",
      "version": "3.10.6"
    },
    "orig_nbformat": 4,
    "colab": {
      "provenance": [],
      "include_colab_link": true
    }
  },
  "nbformat": 4,
  "nbformat_minor": 0
}