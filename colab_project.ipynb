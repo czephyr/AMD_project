{
  "cells": [
    {
      "cell_type": "markdown",
      "metadata": {
        "id": "view-in-github",
        "colab_type": "text"
      },
      "source": [
        "<a href=\"https://colab.research.google.com/github/czephyr/AMD_project/blob/main/colab_project.ipynb\" target=\"_parent\"><img src=\"https://colab.research.google.com/assets/colab-badge.svg\" alt=\"Open In Colab\"/></a>"
      ]
    },
    {
      "cell_type": "code",
      "source": [
        "!apt-get install openjdk-8-jdk-headless -qq > /dev/null\n",
        "!wget -q https://dlcdn.apache.org/spark/spark-3.3.2/spark-3.3.2-bin-hadoop3.tgz\n",
        "!tar xf spark-3.3.2-bin-hadoop3.tgz"
      ],
      "metadata": {
        "id": "HiKF0k5uEfJp"
      },
      "execution_count": 1,
      "outputs": []
    },
    {
      "cell_type": "code",
      "source": [
        "import os\n",
        "os.environ[\"JAVA_HOME\"] = \"/usr/lib/jvm/java-8-openjdk-amd64\"\n",
        "os.environ[\"SPARK_HOME\"] = \"/content/spark-3.3.2-bin-hadoop3\""
      ],
      "metadata": {
        "id": "gGuGBQoSEr0e"
      },
      "execution_count": 2,
      "outputs": []
    },
    {
      "cell_type": "code",
      "source": [
        "!pip install -q findspark\n",
        "!pip install -q pyspark\n",
        "import findspark\n",
        "findspark.init()\n",
        "from pyspark.sql import SparkSession\n",
        "import pyspark\n",
        "spark = SparkSession.builder.master(\"local[*]\").getOrCreate()\n",
        "sc = spark.sparkContext"
      ],
      "metadata": {
        "colab": {
          "base_uri": "https://localhost:8080/"
        },
        "id": "IkF2vSXIDWnG",
        "outputId": "4d7311df-090f-42d7-fafd-23f87b598998"
      },
      "execution_count": 3,
      "outputs": [
        {
          "output_type": "stream",
          "name": "stdout",
          "text": [
            "\u001b[2K     \u001b[90m━━━━━━━━━━━━━━━━━━━━━━━━━━━━━━━━━━━━━━━\u001b[0m \u001b[32m281.4/281.4 MB\u001b[0m \u001b[31m4.7 MB/s\u001b[0m eta \u001b[36m0:00:00\u001b[0m\n",
            "\u001b[?25h  Preparing metadata (setup.py) ... \u001b[?25l\u001b[?25hdone\n",
            "\u001b[2K     \u001b[90m━━━━━━━━━━━━━━━━━━━━━━━━━━━━━━━━━━━━━━\u001b[0m \u001b[32m199.7/199.7 KB\u001b[0m \u001b[31m19.3 MB/s\u001b[0m eta \u001b[36m0:00:00\u001b[0m\n",
            "\u001b[?25h  Building wheel for pyspark (setup.py) ... \u001b[?25l\u001b[?25hdone\n"
          ]
        }
      ]
    },
    {
      "cell_type": "code",
      "execution_count": 4,
      "metadata": {
        "colab": {
          "base_uri": "https://localhost:8080/"
        },
        "id": "CRnhMrXxCuw0",
        "outputId": "a4d016a8-7042-4f11-9346-cbabe6c7f13c"
      },
      "outputs": [
        {
          "output_type": "stream",
          "name": "stdout",
          "text": [
            "Downloading amazon_reviews_us_Baby_v1_00.tsv.zip to /content\n",
            " 96% 331M/346M [00:02<00:00, 177MB/s]\n",
            "100% 346M/346M [00:02<00:00, 132MB/s]\n",
            "Downloading amazon_reviews_us_Digital_Music_Purchase_v1_00.tsv.zip to /content\n",
            " 96% 235M/245M [00:02<00:00, 98.6MB/s]\n",
            "100% 245M/245M [00:02<00:00, 95.1MB/s]\n",
            "Downloading amazon_reviews_us_Digital_Video_Games_v1_00.tsv.zip to /content\n",
            " 64% 17.0M/26.6M [00:00<00:00, 49.8MB/s]\n",
            "100% 26.6M/26.6M [00:00<00:00, 61.5MB/s]\n"
          ]
        }
      ],
      "source": [
        "os.environ['KAGGLE_USERNAME'] = \"aaaaaaaaaaaaaaaaafff\"\n",
        "os.environ['KAGGLE_KEY'] = \"75e26e145e3185803897967c59e5e8d2\"\n",
        "!kaggle datasets download -f amazon_reviews_us_Baby_v1_00.tsv cynthiarempel/amazon-us-customer-reviews-dataset\n",
        "!kaggle datasets download -f amazon_reviews_us_Digital_Music_Purchase_v1_00.tsv cynthiarempel/amazon-us-customer-reviews-dataset\n",
        "!kaggle datasets download -f amazon_reviews_us_Digital_Video_Games_v1_00.tsv cynthiarempel/amazon-us-customer-reviews-dataset"
      ]
    },
    {
      "cell_type": "code",
      "execution_count": 5,
      "metadata": {
        "id": "-pXcdJPACb98"
      },
      "outputs": [],
      "source": [
        "import zipfile\n",
        "with zipfile.ZipFile(\"amazon_reviews_us_Baby_v1_00.tsv.zip\", 'r') as zip_ref:\n",
        "    zip_ref.extractall(\".\")\n",
        "with zipfile.ZipFile(\"amazon_reviews_us_Digital_Music_Purchase_v1_00.tsv.zip\", 'r') as zip_ref:\n",
        "    zip_ref.extractall(\".\")\n",
        "with zipfile.ZipFile(\"amazon_reviews_us_Digital_Video_Games_v1_00.tsv.zip\", 'r') as zip_ref:\n",
        "    zip_ref.extractall(\".\")"
      ]
    },
    {
      "cell_type": "markdown",
      "metadata": {
        "id": "iZ9LaOaWCuw2"
      },
      "source": [
        "### Data to adjacency list"
      ]
    },
    {
      "cell_type": "code",
      "execution_count": 6,
      "metadata": {
        "colab": {
          "base_uri": "https://localhost:8080/"
        },
        "id": "6r4rhHRgCuw3",
        "outputId": "90a303fb-483f-421f-8298-3b3221120b95"
      },
      "outputs": [
        {
          "output_type": "stream",
          "name": "stdout",
          "text": [
            "Rows in the dataset: 3587247\n"
          ]
        },
        {
          "output_type": "execute_result",
          "data": {
            "text/plain": [
              "[Row(customer_id='9970739', product_parent='329991347')]"
            ]
          },
          "metadata": {},
          "execution_count": 6
        }
      ],
      "source": [
        "# the dataset is composed by Baby items, Digital Music and Digital Videogames\n",
        "# RDD (customer,product)\n",
        "tsv0 = spark.read.option(\"header\", \"true\").option(\"sep\", \"\\t\").csv(\"amazon_reviews_us_Baby_v1_00.tsv\").select([\"customer_id\",\"product_parent\"]).rdd\n",
        "tsv1 = spark.read.option(\"header\", \"true\").option(\"sep\", \"\\t\").csv(\"amazon_reviews_us_Digital_Music_Purchase_v1_00.tsv\").select([\"customer_id\",\"product_parent\"]).rdd\n",
        "tsv2 = spark.read.option(\"header\", \"true\").option(\"sep\", \"\\t\").csv(\"amazon_reviews_us_Digital_Video_Games_v1_00.tsv\").select([\"customer_id\",\"product_parent\"]).rdd\n",
        "tsv = tsv0.union(tsv1).union(tsv2)\n",
        "data = tsv\n",
        "print(f\"Rows in the dataset: {data.count()}\")\n",
        "data.take(1)"
      ]
    },
    {
      "cell_type": "code",
      "execution_count": 19,
      "metadata": {
        "colab": {
          "base_uri": "https://localhost:8080/"
        },
        "id": "OfJIYLgyCuw5",
        "outputId": "ad362366-6762-48a8-faed-6807103a6651"
      },
      "outputs": [
        {
          "output_type": "execute_result",
          "data": {
            "text/plain": [
              "[Row(customer_id='9970739', product_parent='329991347'),\n",
              " Row(customer_id='23538442', product_parent='646108902')]"
            ]
          },
          "metadata": {},
          "execution_count": 19
        }
      ],
      "source": [
        "data.take(2)"
      ]
    },
    {
      "cell_type": "code",
      "execution_count": 20,
      "metadata": {
        "colab": {
          "base_uri": "https://localhost:8080/"
        },
        "id": "mFQIgUTLCuw6",
        "outputId": "c4fbf156-957b-4305-f273-4d69584eec2f"
      },
      "outputs": [
        {
          "output_type": "execute_result",
          "data": {
            "text/plain": [
              "['603406193', '341969535']"
            ]
          },
          "metadata": {},
          "execution_count": 20
        }
      ],
      "source": [
        "# Extract id of Digital Videogames products in the database\n",
        "video_games = tsv2.map(lambda x: x[1]).distinct()\n",
        "video_games.take(2)"
      ]
    },
    {
      "cell_type": "code",
      "execution_count": 21,
      "metadata": {
        "colab": {
          "base_uri": "https://localhost:8080/"
        },
        "id": "i4wJAE0jCuw7",
        "outputId": "8bb54971-2cda-45cd-a220-375a337946c7"
      },
      "outputs": [
        {
          "output_type": "execute_result",
          "data": {
            "text/plain": [
              "['634188771', '3470998']"
            ]
          },
          "metadata": {},
          "execution_count": 21
        }
      ],
      "source": [
        "# Extract id of Baby products in the database\n",
        "baby = tsv0.map(lambda x: x[1]).distinct()\n",
        "baby.take(2)"
      ]
    },
    {
      "cell_type": "code",
      "execution_count": 22,
      "metadata": {
        "colab": {
          "base_uri": "https://localhost:8080/"
        },
        "id": "R9xXpb1yCuw8",
        "outputId": "cf7cb835-0a6f-4a0b-9281-57bdd1e87ee9"
      },
      "outputs": [
        {
          "output_type": "execute_result",
          "data": {
            "text/plain": [
              "['262935067', '452318038']"
            ]
          },
          "metadata": {},
          "execution_count": 22
        }
      ],
      "source": [
        "# Extract id of Digital Music products in the database\n",
        "music = tsv1.map(lambda x: x[1]).distinct()\n",
        "music.take(2)"
      ]
    },
    {
      "cell_type": "code",
      "execution_count": 23,
      "metadata": {
        "colab": {
          "base_uri": "https://localhost:8080/"
        },
        "id": "iBUhtCMuCuw8",
        "outputId": "84cc310c-50f3-44c0-db7b-3a83b10d2baa"
      },
      "outputs": [
        {
          "output_type": "execute_result",
          "data": {
            "text/plain": [
              "[('37918955', ('854565914', '854565914')),\n",
              " ('37918955', ('854565914', '490481000'))]"
            ]
          },
          "metadata": {},
          "execution_count": 23
        }
      ],
      "source": [
        "#### CELL 5\n",
        "# Create couples of items purchased by the same customer\n",
        "# RDD [(customer1, (product1,product2)),(customer2, (product3,product4)),(...)]\n",
        "data_joined = data.join(data)\n",
        "data_joined.take(2)"
      ]
    },
    {
      "cell_type": "code",
      "execution_count": 24,
      "metadata": {
        "colab": {
          "base_uri": "https://localhost:8080/"
        },
        "id": "fG63_B9wCuw9",
        "outputId": "c48241fd-8768-43cf-caef-b9074fb6c891"
      },
      "outputs": [
        {
          "output_type": "execute_result",
          "data": {
            "text/plain": [
              "[('37918955', ('854565914', '490481000')),\n",
              " ('37918955', ('490481000', '854565914'))]"
            ]
          },
          "metadata": {},
          "execution_count": 24
        }
      ],
      "source": [
        "#### CELL 6\n",
        "# Remove duplicate item couples created by the join\n",
        "# RDD [(customer1, (product1,product2)),(customer2, (product3,product4)),(...)]\n",
        "data_filtered = data_joined.filter(lambda x : x[1][0]!= x[1][1])\n",
        "data_filtered.take(2)"
      ]
    },
    {
      "cell_type": "code",
      "execution_count": 25,
      "metadata": {
        "colab": {
          "base_uri": "https://localhost:8080/"
        },
        "id": "9sOMBHcrCuw-",
        "outputId": "8e22c0c8-db3a-4c92-9c4f-a26db95e3675"
      },
      "outputs": [
        {
          "output_type": "execute_result",
          "data": {
            "text/plain": [
              "[('854565914', '490481000'), ('490481000', '854565914')]"
            ]
          },
          "metadata": {},
          "execution_count": 25
        }
      ],
      "source": [
        "#### CELL 7\n",
        "# Create list of links between products\n",
        "# RDD [(product1,product2),(product3,product4),(...))]\n",
        "edge_list = data_filtered.map(lambda x : x[1])\n",
        "edge_list.take(2) "
      ]
    },
    {
      "cell_type": "code",
      "execution_count": null,
      "metadata": {
        "id": "f3EuPTDnCuw_"
      },
      "outputs": [],
      "source": [
        "#### CELL 8\n",
        "# Make second item a list\n",
        "# RDD [(node1, [node2]),(node1, [node2]),(...)]\n",
        "adjacency1 = edge_list.mapValues(lambda v: [v])\n",
        "\n",
        "# RDD [(node1,[node2,node3,...]),(...)]\n",
        "adjacency_list = adjacency1.reduceByKey(lambda a,b: a + b)\n",
        "\n",
        "adjacency_list.take(1)"
      ]
    },
    {
      "cell_type": "markdown",
      "metadata": {
        "id": "Ynfaz6uECuxA"
      },
      "source": [
        "### Calculate pagerank"
      ]
    },
    {
      "cell_type": "code",
      "execution_count": null,
      "metadata": {
        "id": "1eyglSkxCuxA",
        "outputId": "250659f5-d759-4d20-ad81-f5f6dcea1de5"
      },
      "outputs": [
        {
          "name": "stderr",
          "output_type": "stream",
          "text": [
            "23/03/20 21:30:39 WARN BlockManager: Task 202 already completed, not releasing lock for rdd_70_0\n"
          ]
        },
        {
          "data": {
            "text/plain": [
              "[('439716423', '543525459', 0.0010204081632653062),\n",
              " ('439716423', '496365324', 0.0010204081632653062),\n",
              " ('439716423', '419902739', 0.0010204081632653062),\n",
              " ('439716423', '235995163', 0.0010204081632653062),\n",
              " ('439716423', '231583317', 0.0010204081632653062),\n",
              " ('439716423', '716235929', 0.0010204081632653062),\n",
              " ('439716423', '81415061', 0.0010204081632653062),\n",
              " ('439716423', '354873430', 0.0010204081632653062),\n",
              " ('439716423', '65780667', 0.0010204081632653062),\n",
              " ('439716423', '944771005', 0.0010204081632653062)]"
            ]
          },
          "execution_count": 9,
          "metadata": {},
          "output_type": "execute_result"
        }
      ],
      "source": [
        "#### CELL 9\n",
        "def calculate_initial_contribs(row):\n",
        "    \"\"\"\n",
        "    This function takes elements from the joined dataset above and\n",
        "    computes the contribution to each outgoing link based on the\n",
        "    current rank.\n",
        "    \"\"\"\n",
        "    item, array = row\n",
        "    num_edges = len(array)\n",
        "    for node in array:\n",
        "        yield item, node, 1/num_edges\n",
        "\n",
        "# transition matrix stored as triplets\n",
        "# RDD [(product1,(product2,probability)),(product3,(product4,probability))]\n",
        "trans_matrix = adjacency_list.flatMap(calculate_initial_contribs).cache()\n",
        "trans_matrix.take(10) "
      ]
    },
    {
      "cell_type": "code",
      "execution_count": null,
      "metadata": {
        "id": "pH-3byHpCuxA",
        "outputId": "3a21298b-566e-407d-f0cd-e2dbf3ff934d"
      },
      "outputs": [
        {
          "name": "stderr",
          "output_type": "stream",
          "text": [
            "23/03/20 21:30:54 WARN BlockManager: Task 347 already completed, not releasing lock for rdd_70_0\n"
          ]
        },
        {
          "data": {
            "text/plain": [
              "[(0, (569322, 0.0010204081632653062)), (0, (471457, 0.0010204081632653062))]"
            ]
          },
          "execution_count": 10,
          "metadata": {},
          "output_type": "execute_result"
        }
      ],
      "source": [
        "# Product names\n",
        "keys = trans_matrix.map(lambda x : x[0]).distinct().collect()\n",
        "# map product names to integers\n",
        "indexmap = dict(zip(keys, range(len(keys))))\n",
        "\n",
        "# map items to indexes\n",
        "# RDD [(index_product1,(index_product2,probability)),(index_product3,(index_product4,probability))]\n",
        "hashed_matrix = trans_matrix.map(lambda x: (indexmap[x[0]],(indexmap[x[1]],x[2])))\n",
        "hashed_matrix.take(2)"
      ]
    },
    {
      "cell_type": "code",
      "execution_count": null,
      "metadata": {
        "id": "-WYlz3CNCuxB"
      },
      "outputs": [],
      "source": [
        "import numpy as np\n",
        "\n",
        "# Array of pagerank stored in memory\n",
        "n = len(keys) # num of products in adjacency list\n",
        "pgrnk = np.ones(n)/n # time t\n",
        "previus_pgrnk = np.ones(n) # time -1\n",
        "     \n",
        "# MSE distance between previous pgrank iteration\n",
        "def l2distance(v, q):   \n",
        "    return sum([(q_el - v_el)**2 for v_el, q_el in zip(v, q)])"
      ]
    },
    {
      "cell_type": "code",
      "execution_count": null,
      "metadata": {
        "id": "oeqmmILbCuxB",
        "outputId": "8d3fe895-350d-4325-e7cc-7fdaccb57f24"
      },
      "outputs": [
        {
          "name": "stderr",
          "output_type": "stream",
          "text": [
            "                                                                                \r"
          ]
        }
      ],
      "source": [
        "#### CELL 15\n",
        "tolerance = 10e-10\n",
        "max_iterations = 300\n",
        "i = 0\n",
        "tax = 0.85\n",
        "\n",
        "while(l2distance(previus_pgrnk, pgrnk) >= tolerance and i < max_iterations):\n",
        "    previus_pgrnk = np.copy(pgrnk)\n",
        "\n",
        "    page_rank_values = (hashed_matrix\n",
        "                    .mapValues(lambda v: tax*(v[1]*pgrnk[v[0]]) + (1-tax)*(1/n)) \n",
        "                    .reduceByKey(lambda a, b: a+b)\n",
        "                    .sortByKey()\n",
        "                    .collect()\n",
        "                    )\n",
        "  \n",
        "    pgrnk = np.array([c for (i, c) in page_rank_values])\n",
        "    i=i+1"
      ]
    },
    {
      "cell_type": "code",
      "execution_count": null,
      "metadata": {
        "id": "43oG3GYpCuxB",
        "outputId": "ae84669f-80eb-424d-bc1c-9f17efb0537c"
      },
      "outputs": [
        {
          "data": {
            "text/plain": [
              "0.001135444161043827"
            ]
          },
          "execution_count": 46,
          "metadata": {},
          "output_type": "execute_result"
        }
      ],
      "source": [
        "# Avg pagerank\n",
        "np.mean(pgrnk)"
      ]
    },
    {
      "cell_type": "markdown",
      "metadata": {
        "id": "S9P6wXv7CuxD"
      },
      "source": [
        "### Topic aware page rank"
      ]
    },
    {
      "cell_type": "code",
      "execution_count": null,
      "metadata": {
        "id": "XxLQhQBrCuxD"
      },
      "outputs": [],
      "source": [
        "vgdict = video_games.collect()\n",
        "vg_array = [1 if (x in vgdict) else 0 for x in indexmap]"
      ]
    },
    {
      "cell_type": "code",
      "execution_count": null,
      "metadata": {
        "id": "Q_EgRToRCuxD"
      },
      "outputs": [],
      "source": [
        "# Reset arrays\n",
        "n = len(keys) # num of products in adjacency list\n",
        "pgrnk = np.ones(n)/n # time t\n",
        "previus_pgrnk = np.ones(n) # time -1\n"
      ]
    },
    {
      "cell_type": "code",
      "execution_count": null,
      "metadata": {
        "id": "Ekqa6CHyCuxD"
      },
      "outputs": [],
      "source": [
        "#### CELL 18\n",
        "tolerance = 10e-10\n",
        "max_iterations = 300\n",
        "i = 0\n",
        "tax = 0.85\n",
        "\n",
        "# size of the page in the topic set\n",
        "len_topic = video_games.count()    \n",
        "\n",
        "# if the page is in the selected topic set it's pgrank calculation will have\n",
        "# the added weight from the teletrasportation\n",
        "def calcPgRnk(row):\n",
        "    return tax*(row[1]*pgrnk[row[0]]) + vg_array[row[0]]*(1-tax)*(1/len_topic)\n",
        "\n",
        "\n",
        "while(l2distance(previus_pgrnk, pgrnk) >= tolerance or i < max_iterations):\n",
        "  \n",
        "    previus_pgrnk = np.copy(pgrnk) \n",
        "    page_rank_values = (hashed_matrix\n",
        "                        .mapValues(calcPgRnk) \n",
        "                        .reduceByKey(lambda a, b: a+b) \n",
        "                        .sortByKey()\n",
        "                        .collect()\n",
        "                       )\n",
        "  \n",
        "    pgrnk = np.array([c for (i, c) in page_rank_values])\n",
        "    i = i + 1"
      ]
    },
    {
      "cell_type": "code",
      "execution_count": null,
      "metadata": {
        "id": "NspPg78mCuxE",
        "outputId": "f1ebd89d-3719-4b03-c99f-17a2ae920416"
      },
      "outputs": [
        {
          "data": {
            "text/plain": [
              "0.007904045707260303"
            ]
          },
          "execution_count": 57,
          "metadata": {},
          "output_type": "execute_result"
        }
      ],
      "source": [
        "# Avg pgrnk for videogame products\n",
        "sum = 0\n",
        "for pg,vg in zip(pgrnk,vg_array):\n",
        "    sum = pg*vg + sum \n",
        "\n",
        "sum/len_topic"
      ]
    },
    {
      "cell_type": "code",
      "execution_count": null,
      "metadata": {
        "id": "NgO-fu5JCuxE",
        "outputId": "cd896afb-7747-451a-8f25-5a16a5d2b56d"
      },
      "outputs": [
        {
          "data": {
            "text/plain": [
              "0.0005901374609417463"
            ]
          },
          "execution_count": 58,
          "metadata": {},
          "output_type": "execute_result"
        }
      ],
      "source": [
        "# Avg pgrnk for products in the other two categories\n",
        "sum_others = 0\n",
        "for pg,vg in zip(pgrnk,vg_array):\n",
        "    sum_others = pg*int(not(vg)) + sum_others\n",
        "\n",
        "sum_others / (len(pgrnk)-len_topic)"
      ]
    }
  ],
  "metadata": {
    "kernelspec": {
      "display_name": "malchiodi-MymJiiy4",
      "language": "python",
      "name": "python3"
    },
    "language_info": {
      "codemirror_mode": {
        "name": "ipython",
        "version": 3
      },
      "file_extension": ".py",
      "mimetype": "text/x-python",
      "name": "python",
      "nbconvert_exporter": "python",
      "pygments_lexer": "ipython3",
      "version": "3.10.6"
    },
    "orig_nbformat": 4,
    "colab": {
      "provenance": [],
      "include_colab_link": true
    }
  },
  "nbformat": 4,
  "nbformat_minor": 0
}