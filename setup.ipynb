{
 "cells": [
  {
   "cell_type": "code",
   "execution_count": 3,
   "metadata": {},
   "outputs": [],
   "source": [
    "import os\n",
    "import json\n",
    "with open(\"../kaggle.json\") as file:\n",
    "    credentials = json.load(file)\n",
    "    os.environ['KAGGLE_USERNAME'] = credentials[\"username\"]\n",
    "    os.environ['KAGGLE_KEY'] = credentials[\"key\"]"
   ]
  },
  {
   "cell_type": "code",
   "execution_count": 6,
   "metadata": {},
   "outputs": [
    {
     "name": "stdout",
     "output_type": "stream",
     "text": [
      "Downloading amazon-us-customer-reviews-dataset.zip to /home/funicello/Personal/malchiodi/pagerank\n",
      "  1%|▎                                      | 205M/21.0G [00:09<16:43, 22.2MB/s]^C\n",
      "  1%|▍                                      | 208M/21.0G [00:10<17:13, 21.6MB/s]\n",
      "User cancelled operation\n"
     ]
    }
   ],
   "source": [
    "!kaggle datasets download -d cynthiarempel/amazon-us-customer-reviews-dataset/amazon_reviews_us_Baby_v1_00.tsv"
   ]
  },
  {
   "cell_type": "code",
   "execution_count": 7,
   "metadata": {},
   "outputs": [],
   "source": [
    "import zipfile\n",
    "with zipfile.ZipFile(\"amazon_reviews_us_Baby_v1_00.tsv.zip\", 'r') as zip_ref:\n",
    "    zip_ref.extractall(\".\")\n",
    "with zipfile.ZipFile(\"amazon_reviews_us_Digital_Music_Purchase_v1_00.tsv.zip\", 'r') as zip_ref:\n",
    "    zip_ref.extractall(\".\")\n",
    "with zipfile.ZipFile(\"amazon_reviews_us_Digital_Video_Games_v1_00.tsv.zip\", 'r') as zip_ref:\n",
    "    zip_ref.extractall(\".\")"
   ]
  }
 ],
 "metadata": {
  "kernelspec": {
   "display_name": "malchiodi-MymJiiy4",
   "language": "python",
   "name": "python3"
  },
  "language_info": {
   "codemirror_mode": {
    "name": "ipython",
    "version": 3
   },
   "file_extension": ".py",
   "mimetype": "text/x-python",
   "name": "python",
   "nbconvert_exporter": "python",
   "pygments_lexer": "ipython3",
   "version": "3.10.6"
  },
  "orig_nbformat": 4
 },
 "nbformat": 4,
 "nbformat_minor": 2
}
